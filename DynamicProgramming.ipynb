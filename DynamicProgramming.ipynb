{
  "cells": [
    {
      "cell_type": "markdown",
      "metadata": {
        "colab_type": "text",
        "id": "view-in-github"
      },
      "source": [
        "<a href=\"https://colab.research.google.com/github/ykkim77/python-13th-week/blob/main/python_13th_week.ipynb\" target=\"_parent\"><img src=\"https://colab.research.google.com/assets/colab-badge.svg\" alt=\"Open In Colab\"/></a>"
      ]
    },
    {
      "cell_type": "markdown",
      "metadata": {
        "id": "_17Zhg4BXgzQ"
      },
      "source": [
        "# 동적 계획법"
      ]
    },
    {
      "cell_type": "markdown",
      "metadata": {},
      "source": [
        "## 피보나치 수 구하기"
      ]
    },
    {
      "cell_type": "markdown",
      "metadata": {},
      "source": [
        "![fibonacci](./images/fibonacci.jpg)"
      ]
    },
    {
      "cell_type": "markdown",
      "metadata": {},
      "source": [
        "- 재귀함수를 이용한 피보나치 수 구하기"
      ]
    },
    {
      "cell_type": "markdown",
      "metadata": {},
      "source": [
        "![fibonacci-1](./images/fibonacci-1.jpg)"
      ]
    },
    {
      "cell_type": "code",
      "execution_count": null,
      "metadata": {},
      "outputs": [],
      "source": [
        "def fibonacci(n):\n",
        "    if n <= 1:\n",
        "        return n\n",
        "    else:\n",
        "        return (fibonacci(n-1)+fibonacci(n-2))\n",
        "\n"
      ]
    },
    {
      "cell_type": "code",
      "execution_count": null,
      "metadata": {},
      "outputs": [],
      "source": [
        "print(fibonacci(50))"
      ]
    },
    {
      "cell_type": "markdown",
      "metadata": {},
      "source": [
        "- 메모이제이션을 사용한 피보나치 수 구하기"
      ]
    },
    {
      "cell_type": "markdown",
      "metadata": {},
      "source": [
        "![fibonacci-2](./images/fibonacci-2.jpg)"
      ]
    },
    {
      "cell_type": "code",
      "execution_count": null,
      "metadata": {},
      "outputs": [],
      "source": [
        "cache = {0:0, 1:1}\n",
        "\n",
        "def fibonacci(n):\n",
        "    if n in cache.keys():\n",
        "        return cache[n]\n",
        "    else:\n",
        "        cache[n] = fibonacci(n-1) + fibonacci(n-2)\n",
        "        return cache[n]"
      ]
    },
    {
      "cell_type": "code",
      "execution_count": null,
      "metadata": {},
      "outputs": [],
      "source": [
        "print(fibonacci(50))"
      ]
    },
    {
      "cell_type": "markdown",
      "metadata": {},
      "source": [
        "## 배낭문제 해결"
      ]
    },
    {
      "cell_type": "markdown",
      "metadata": {},
      "source": [
        "![dynamic](./images/dynamic.jpg)"
      ]
    },
    {
      "cell_type": "code",
      "execution_count": null,
      "metadata": {},
      "outputs": [],
      "source": [
        "def knapsack():\n",
        "\tprint('## 메모이제이션 배열 ##')\n",
        "\tarray = [[0 for _ in range(maxWeight+1)] for _ in range(rowCount+1)]\t# 빈 배열을 만들고 모두 0으로\n",
        "\tfor row in range(1, rowCount+1) :\t\t\t\t\t# 1~4개 (4회)\n",
        "\t\tprint(row, '개 -->', end = ' ')\n",
        "\t\tfor col in range(1, maxWeight+1) :\t\t\t\t# 1colg ~ 7colg\n",
        "\t\t\tif weight[row] > col :\t# 물건의 무게가 열보다 크면 == 물건이 가방에 안 들어가면\n",
        "\t\t\t\tarray[row][col] = array[row-1][col]\n",
        "\t\t\telse :\t\t\t# 물건의 무게가 가방보다 작거나 같으면\n",
        "\t\t\t\tvalue1 = money[row] + array[row-1][col-weight[row]]\t# 보석가격 + 앞 행에서의 여유분의 최대 가격\n",
        "\t\t\t\tvalue2 = array[row-1][col]\t\t\t\t# 바로 앞 행에서의 최대 가격\n",
        "\t\t\t\tarray[row][col] = max(value1, value2)\n",
        "\t\t\tprint('%2d' % array[row][col], end = ' ')\n",
        "\t\tprint()\n",
        "\treturn array[rowCount][maxWeight]"
      ]
    },
    {
      "cell_type": "code",
      "execution_count": null,
      "metadata": {},
      "outputs": [],
      "source": [
        "## 전역 변수 선언 부분 ##\n",
        "maxWeight = 7\t# 배낭 최대 무게\n",
        "rowCount = 4\t# 보석 숫자\n",
        "weight = [0, 6, 4,3, 5]   # 보석 무게 (0, 금괴, 수정, 루비, 진주)\n",
        "money =  [0,13, 8, 6, 12] # 보석 가격 (0, 금괴, 수정, 루비, 진주)\n",
        "\n",
        "## 메인 코드 부분 ##\n",
        "maxValue = knapsack()\n",
        "print()\n",
        "print('배낭에 담을 수 있는 보석의 최대 가격 -->', maxValue, '억원')"
      ]
    }
  ],
  "metadata": {
    "colab": {
      "authorship_tag": "ABX9TyNfYEYHL4wCNbBmxfR+rFfd",
      "collapsed_sections": [],
      "include_colab_link": true,
      "name": "python-13th-week.ipynb",
      "provenance": []
    },
    "interpreter": {
      "hash": "d9a022479d48104f838a877ceb317cbfeb74180a02cf5c3b74635300627f5263"
    },
    "kernelspec": {
      "display_name": "Python 3.9.4 64-bit",
      "language": "python",
      "name": "python3"
    },
    "language_info": {
      "codemirror_mode": {
        "name": "ipython",
        "version": 3
      },
      "file_extension": ".py",
      "mimetype": "text/x-python",
      "name": "python",
      "nbconvert_exporter": "python",
      "pygments_lexer": "ipython3",
      "version": "3.9.4"
    }
  },
  "nbformat": 4,
  "nbformat_minor": 0
}
